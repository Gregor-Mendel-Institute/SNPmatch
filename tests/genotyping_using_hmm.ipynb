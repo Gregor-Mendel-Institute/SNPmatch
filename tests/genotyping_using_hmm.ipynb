{
 "cells": [
  {
   "cell_type": "markdown",
   "id": "dense-stone",
   "metadata": {},
   "source": [
    "# genotyping using HMM"
   ]
  },
  {
   "cell_type": "code",
   "execution_count": 1,
   "id": "arctic-salad",
   "metadata": {
    "execution": {
     "iopub.execute_input": "2021-04-23T08:20:30.062027Z",
     "iopub.status.busy": "2021-04-23T08:20:30.061830Z",
     "iopub.status.idle": "2021-04-23T08:20:31.792277Z",
     "shell.execute_reply": "2021-04-23T08:20:31.791617Z",
     "shell.execute_reply.started": "2021-04-23T08:20:30.062011Z"
    }
   },
   "outputs": [],
   "source": [
    "import numpy as np\n",
    "import numpy.ma \n",
    "import pandas as pd\n",
    "import seaborn as sns\n",
    "import matplotlib.pyplot as plt\n",
    "from snpmatch.core import parsers, genomes, genotype_cross, snp_genotype\n",
    "import logging\n",
    "log = logging.getLogger(__name__)"
   ]
  },
  {
   "cell_type": "markdown",
   "id": "vital-motel",
   "metadata": {},
   "source": [
    "### provide input files"
   ]
  },
  {
   "cell_type": "code",
   "execution_count": 61,
   "id": "auburn-lawsuit",
   "metadata": {
    "execution": {
     "iopub.execute_input": "2021-04-23T10:55:48.403317Z",
     "iopub.status.busy": "2021-04-23T10:55:48.402938Z",
     "iopub.status.idle": "2021-04-23T10:55:48.406979Z",
     "shell.execute_reply": "2021-04-23T10:55:48.406444Z",
     "shell.execute_reply.started": "2021-04-23T10:55:48.403288Z"
    }
   },
   "outputs": [],
   "source": [
    "db_file = \"/groups/nordborg/projects/field_experiments/007.pilot.sequencing/018.genotyping.by.plate/996.Swedes.220_6.newReSeq.July2020/002.mergeVCF/02_Swedes200_6.newReSeq_2.3M.BIALLELIC.hdf5\"\n",
    "input_vcf_file = \"/groups/nordborg/projects/epiclines/005.manu.crosses.2020/004.design_resolved/snps_bcftools/f2_batchthree.maf_filtered.vcf.gz\"\n",
    "parents = \"6046x6191_reSeq\""
   ]
  },
  {
   "cell_type": "code",
   "execution_count": 4,
   "id": "public-mount",
   "metadata": {
    "execution": {
     "iopub.execute_input": "2021-04-23T08:20:35.657009Z",
     "iopub.status.busy": "2021-04-23T08:20:35.656621Z",
     "iopub.status.idle": "2021-04-23T08:20:47.118837Z",
     "shell.execute_reply": "2021-04-23T08:20:47.117668Z",
     "shell.execute_reply.started": "2021-04-23T08:20:35.656964Z"
    }
   },
   "outputs": [],
   "source": [
    "genome = genomes.Genome(\"athaliana_tair10\")\n",
    "g = snp_genotype.load_genotype_files( db_file )\n",
    "geno_cross = genotype_cross.GenotypeCross(g, parents )\n",
    "\n",
    "\n",
    "snpvcf = parsers.import_vcf_file(inFile =  input_vcf_file , logDebug = False, samples_to_load = None)\n",
    "samples_ids = pd.Series(snpvcf['samples']) \n",
    "samples_gt = snpvcf['gt']\n",
    "samples_gt = pd.DataFrame(samples_gt.astype(str))\n",
    "input_chr_names = genome.chrs[pd.Series(snpvcf['chr'], dtype = str).apply(genome.get_chr_ind)]\n",
    "g_chr_names = genome.chrs[pd.Series(geno_cross.commonSNPsCHR, dtype = str).apply(genome.get_chr_ind)]"
   ]
  },
  {
   "cell_type": "code",
   "execution_count": 20,
   "id": "lesbian-squad",
   "metadata": {
    "execution": {
     "iopub.execute_input": "2021-04-23T08:26:10.662381Z",
     "iopub.status.busy": "2021-04-23T08:26:10.662070Z",
     "iopub.status.idle": "2021-04-23T08:26:10.674410Z",
     "shell.execute_reply": "2021-04-23T08:26:10.674011Z",
     "shell.execute_reply.started": "2021-04-23T08:26:10.662357Z"
    }
   },
   "outputs": [],
   "source": [
    "def uniq_neighbor(a):\n",
    "    sorted_a = np.array(a[0], dtype = a.dtype)\n",
    "    sorted_a_count = np.array([1], dtype = int)\n",
    "    for ef_ix in range(1, len(a)):\n",
    "        if a[ef_ix] != a[ef_ix-1]:\n",
    "            sorted_a = np.append(sorted_a, a[ef_ix])\n",
    "            sorted_a_count = np.append(sorted_a_count, 1)\n",
    "        elif a[ef_ix] == a[ef_ix-1]:\n",
    "            sorted_a_count[-1] += 1\n",
    "    return((sorted_a, sorted_a_count))\n",
    "        \n",
    "def get_parental_obs(input_gt, snpsP1_gt, snpsP2_gt, polarize = None):\n",
    "    num_snps = len(input_gt)\n",
    "    ebTarGTs = parsers.parseGT(input_gt)\n",
    "    ebPolarised = np.zeros(num_snps, dtype=int)\n",
    "    ### Here I am having 6 observed states. to consider SNPs where either of the parent shows -1 \n",
    "    ## ('00', '01', '11', '0', '1', 'NA') \n",
    "    ##    0,    1,    2,   3,   4,    5\n",
    "    ebPolarised[:] = 5\n",
    "    snpsP1_gt_mask = numpy.ma.masked_less(numpy.ma.masked_greater(snpsP1_gt, 1), 0)\n",
    "    snpsP2_gt_mask = numpy.ma.masked_less(numpy.ma.masked_greater(snpsP2_gt, 1), 0)\n",
    "    ebPolarised[np.where((np.equal( ebTarGTs, snpsP1_gt_mask )) & (~snpsP2_gt_mask) )[0] ] = 0  ## 00\n",
    "    ebPolarised[np.where((np.equal( ebTarGTs, snpsP1_gt_mask )) & (snpsP2_gt_mask) )[0] ] = 3 ## 0\n",
    "    ebPolarised[np.where((np.equal( ebTarGTs, snpsP2_gt_mask )) & (~snpsP1_gt_mask) )[0] ] = 2  ## 11\n",
    "    ebPolarised[np.where((np.equal( ebTarGTs, snpsP2_gt_mask )) & (snpsP1_gt_mask) )[0] ] = 4 ## 1\n",
    "    ebPolarised[np.where((np.equal( ebTarGTs, np.repeat(2, num_snps) )) )[0] ] = 1\n",
    "#     & ( ~snpsP1_gt_mask ) & (~snpsP2_gt_mask)\n",
    "    return(ebPolarised)\n",
    "\n",
    "def init_hmm(num_markers, chromosome_size = 115, recomb_rate = 3.3, n_iter = 100):\n",
    "    \"\"\"\n",
    "    Function to initilize a HMM model \n",
    "    Input: \n",
    "        number of markers\n",
    "        recomb_rate: assumed rate of recombination (cM per Mb)\n",
    "        genome_size: size of chromosome in Mb\n",
    "    \"\"\"\n",
    "    from hmmlearn import hmm\n",
    "    ### The below transition probability is for a intercross, adapted from R/qtl\n",
    "    log.info(\"Initialising HMM\")\n",
    "    states = ('aa', 'ab', 'bb')\n",
    "    observations = ('00', '01', '11', '0', '1', 'NA')\n",
    "    ## assume A. thaliana genome size of 115 Mb \n",
    "    ## First calculate the average spacing between the markers\n",
    "    ## chromosome_size / num_markers \n",
    "    ##_____\n",
    "    ## given a recombination rate of ~3.3 \n",
    "    # probability you see a recombinant is 1 / (100 * recomb_rate)\n",
    "    prob_of_change = ( chromosome_size / num_markers ) * ( 1 / (100 * recomb_rate)  )\n",
    "    transmission_prob = [\n",
    "            [1 - prob_of_change,  prob_of_change/2,   prob_of_change/2],\n",
    "            [prob_of_change/2,    1 - prob_of_change, prob_of_change/2],\n",
    "            [prob_of_change/2,    prob_of_change/2,   1 - prob_of_change]\n",
    "    ]\n",
    "    ## Since I have 6 possible observed states -- I have made an emmission matrix with such a structure.\n",
    "    # Check Rqtl book page 381. Emission probabilities for intercross given error probability\n",
    "    emission_prob = [ \n",
    "        [0.65,   0.1,  0.01,  0.5,  0.1,  0.33 ], \n",
    "        [0.34,    0.8,  0.34,    0.4,  0.4,  0.34 ],\n",
    "        [0.01,  0.1,  0.65,   0.1,  0.5,  0.33 ]\n",
    "    ]\n",
    "    model = hmm.MultinomialHMM(n_components=3, n_iter = n_iter, algorithm = \"viterbi\") \n",
    "    model.startprob_ = np.array([0.25, 0.5, 0.25])\n",
    "    model.transmat_ = pd.DataFrame(transmission_prob)\n",
    "    model.emissionprob_ = pd.DataFrame(emission_prob)\n",
    "    return(model)"
   ]
  },
  {
   "cell_type": "code",
   "execution_count": 7,
   "id": "mineral-bulgaria",
   "metadata": {
    "execution": {
     "iopub.execute_input": "2021-04-23T08:23:23.758108Z",
     "iopub.status.busy": "2021-04-23T08:23:23.757782Z",
     "iopub.status.idle": "2021-04-23T08:23:23.762769Z",
     "shell.execute_reply": "2021-04-23T08:23:23.762006Z",
     "shell.execute_reply.started": "2021-04-23T08:23:23.758086Z"
    }
   },
   "outputs": [
    {
     "data": {
      "text/plain": [
       "(array([7]),)"
      ]
     },
     "execution_count": 7,
     "metadata": {},
     "output_type": "execute_result"
    }
   ],
   "source": [
    "np.where(samples_ids.values == 'T16_P1.A6_F2_D1')"
   ]
  },
  {
   "cell_type": "code",
   "execution_count": 58,
   "id": "continuous-cleaners",
   "metadata": {
    "execution": {
     "iopub.execute_input": "2021-04-23T10:43:49.810855Z",
     "iopub.status.busy": "2021-04-23T10:43:49.810202Z",
     "iopub.status.idle": "2021-04-23T10:43:49.844925Z",
     "shell.execute_reply": "2021-04-23T10:43:49.844390Z",
     "shell.execute_reply.started": "2021-04-23T10:43:49.810807Z"
    }
   },
   "outputs": [],
   "source": [
    "t_chr_ix = 4\n",
    "sample_ix = 3\n",
    "\n",
    "ec = genome.chrs[t_chr_ix] \n",
    "eclen = genome.chrlen[t_chr_ix]\n",
    "\n",
    "reqPOSind =  np.where( g_chr_names == ec)[0]\n",
    "reqTARind = np.where( input_chr_names == ec )[0]\n",
    "ebAccsInds, ebTarInds = geno_cross._get_common_positions_ixs(geno_cross.commonSNPsPOS, snpvcf['pos'], reqPOSind, reqTARind)\n",
    "\n",
    "t_genotypes_raw = get_parental_obs(samples_gt.iloc[ebTarInds,sample_ix].values, geno_cross.snpsP1[ebAccsInds], geno_cross.snpsP2[ebAccsInds])\n",
    "\n",
    "model = init_hmm( samples_gt.shape[0] )\n",
    "# model = model.fit(t_genotypes_raw.reshape((-1, 1)),  )\n",
    "t_genotypes = model.decode(t_genotypes_raw.reshape((-1, 1)), algorithm='viterbi')\n",
    "# model.predict(t_genotypes_raw.reshape((-1, 1)))\n",
    "# np.array_equal(t_genotypes[1], model.predict(t_genotypes_raw.reshape((-1, 1))))"
   ]
  },
  {
   "cell_type": "code",
   "execution_count": 53,
   "id": "existing-looking",
   "metadata": {
    "execution": {
     "iopub.execute_input": "2021-04-23T10:06:03.421992Z",
     "iopub.status.busy": "2021-04-23T10:06:03.421718Z",
     "iopub.status.idle": "2021-04-23T10:06:03.425234Z",
     "shell.execute_reply": "2021-04-23T10:06:03.424817Z",
     "shell.execute_reply.started": "2021-04-23T10:06:03.421972Z"
    }
   },
   "outputs": [
    {
     "data": {
      "text/plain": [
       "-2054.688554078723"
      ]
     },
     "execution_count": 53,
     "metadata": {},
     "output_type": "execute_result"
    }
   ],
   "source": [
    "t_genotypes[0]"
   ]
  },
  {
   "cell_type": "code",
   "execution_count": 55,
   "id": "banner-hudson",
   "metadata": {
    "execution": {
     "iopub.execute_input": "2021-04-23T10:06:08.606339Z",
     "iopub.status.busy": "2021-04-23T10:06:08.606066Z",
     "iopub.status.idle": "2021-04-23T10:06:08.612126Z",
     "shell.execute_reply": "2021-04-23T10:06:08.611755Z",
     "shell.execute_reply.started": "2021-04-23T10:06:08.606318Z"
    }
   },
   "outputs": [
    {
     "data": {
      "text/plain": [
       "(array([1, 0, 1, 2, 1]), array([689, 964, 456, 165,  53]))"
      ]
     },
     "execution_count": 55,
     "metadata": {},
     "output_type": "execute_result"
    }
   ],
   "source": [
    "uniq_neighbor( t_genotypes[1] )"
   ]
  },
  {
   "cell_type": "code",
   "execution_count": 59,
   "id": "specified-madness",
   "metadata": {
    "execution": {
     "iopub.execute_input": "2021-04-23T10:43:51.317482Z",
     "iopub.status.busy": "2021-04-23T10:43:51.317210Z",
     "iopub.status.idle": "2021-04-23T10:43:51.852899Z",
     "shell.execute_reply": "2021-04-23T10:43:51.852478Z",
     "shell.execute_reply.started": "2021-04-23T10:43:51.317454Z"
    }
   },
   "outputs": [
    {
     "data": {
      "image/png": "[encoded data removed]",
      "text/plain": [
       "<Figure size 432x432 with 3 Axes>"
      ]
     },
     "metadata": {
      "needs_background": "light"
     },
     "output_type": "display_data"
    }
   ],
   "source": [
    "p = sns.jointplot(np.arange(t_genotypes_raw.shape[0]), t_genotypes_raw, kind=\"hex\", joint_kws=dict(gridsize=40))\n",
    "\n",
    "\n",
    "p.ax_marg_x.set_title( \"%s in chr %s \" % (samples_ids.values[sample_ix], ec) )\n",
    "plt.show()"
   ]
  },
  {
   "cell_type": "code",
   "execution_count": 60,
   "id": "surrounded-shield",
   "metadata": {
    "execution": {
     "iopub.execute_input": "2021-04-23T10:43:52.636644Z",
     "iopub.status.busy": "2021-04-23T10:43:52.636307Z",
     "iopub.status.idle": "2021-04-23T10:43:52.746996Z",
     "shell.execute_reply": "2021-04-23T10:43:52.746579Z",
     "shell.execute_reply.started": "2021-04-23T10:43:52.636619Z"
    }
   },
   "outputs": [
    {
     "data": {
      "text/plain": [
       "<matplotlib.axes._subplots.AxesSubplot at 0x2ba277e378d0>"
      ]
     },
     "execution_count": 60,
     "metadata": {},
     "output_type": "execute_result"
    },
    {
     "data": {
      "image/png": "[encoded data removed]",
      "text/plain": [
       "<Figure size 432x288 with 1 Axes>"
      ]
     },
     "metadata": {
      "needs_background": "light"
     },
     "output_type": "display_data"
    }
   ],
   "source": [
    "sns.scatterplot(np.arange(t_genotypes[1].shape[0]), t_genotypes[1] )"
   ]
  }
 ],
 "metadata": {
  "kernelspec": {
   "display_name": "Python [conda env:.conda-py3_quant]",
   "language": "python",
   "name": "conda-env-.conda-py3_quant-py"
  },
  "language_info": {
   "codemirror_mode": {
    "name": "ipython",
    "version": 3
   },
   "file_extension": ".py",
   "mimetype": "text/x-python",
   "name": "python",
   "nbconvert_exporter": "python",
   "pygments_lexer": "ipython3",
   "version": "3.7.6"
  },
  "widgets": {
   "application/vnd.jupyter.widget-state+json": {
    "state": {},
    "version_major": 2,
    "version_minor": 0
   }
  }
 },
 "nbformat": 4,
 "nbformat_minor": 5
}
