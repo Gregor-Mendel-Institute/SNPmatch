{
 "cells": [
  {
   "cell_type": "markdown",
   "id": "metric-proof",
   "metadata": {},
   "source": [
    "# hmm models\n",
    "\n",
    "Currently have two models with these common parameters to calculate transition matrix \n",
    "\n",
    "`chromosome_size`\n",
    ": Chromosome size in Mb\n",
    "\n",
    "`num_markers`\n",
    ": Number of markers given for a given chromosome size\n",
    "\n",
    "`recomb_rate`\n",
    ": Recombination rate in cM/Mb. default: 3.3\n",
    "\n",
    "`n_iter`\n",
    ": Number of iterations for converging a model\n",
    "\n",
    "### 1. Identify homozygous regions \n",
    "\n",
    "Hidden states -- Homozygous or Heterozygous\n",
    "\n",
    "Observed states -- Genotyped SNPs either 00/11 (homozygous, state 0), heterozygous (state 1) and NA (state 2). Parameters used for estimating emmission probability matrix:\n",
    "\n",
    "\n",
    "`sample_depth`\n",
    ": Average coverage for each genotyped SNP. Default of 1.5\n",
    "\n",
    "\n",
    "`fraction_homo_parents`\n",
    ": Fraction of sites in parental genomes which are heterozygous. Default of 0.99\n",
    "\n",
    "`avg_sites_segregating`\n",
    ": Expected pi measure between parents. Fraction of provided sites which are segregating between parents. Default: 0.01\n",
    "\n",
    "`base_error`\n",
    ": expected genotyping error in the sample. default: 0.001\n",
    "\n",
    "        \n",
    "### 2. Recombination break points -- hidden states as AA, AB and BB\n",
    "\n",
    "Adapted the model from Andolfatto *et al.*. Parameters required for estimating emission matrix\n",
    "\n",
    "`snps_p1`: SNPs genotyped for parent 1\n",
    "\n",
    "`snps_p2`: SNPs genotyped for parent 2\n",
    "\n",
    "`base_error`: Genotyping error in the sample\n",
    "\n",
    "`sample_depth`: Average coverage on the SNPs"
   ]
  },
  {
   "cell_type": "code",
   "execution_count": 2,
   "id": "civil-copyright",
   "metadata": {
    "execution": {
     "iopub.execute_input": "2021-06-02T09:02:00.216933Z",
     "iopub.status.busy": "2021-06-02T09:02:00.216217Z",
     "iopub.status.idle": "2021-06-02T09:02:01.015499Z",
     "shell.execute_reply": "2021-06-02T09:02:01.014126Z",
     "shell.execute_reply.started": "2021-06-02T09:02:00.216893Z"
    }
   },
   "outputs": [],
   "source": [
    "import numpy as np\n",
    "import numpy.ma \n",
    "import pandas as pd\n",
    "import seaborn as sns\n",
    "import matplotlib.pyplot as plt\n",
    "from snpmatch.core import parsers, genomes, genotype_cross, snp_genotype, infer, results\n",
    "import logging\n",
    "log = logging.getLogger(__name__)\n",
    "import os.path\n",
    "import json\n",
    "\n",
    "genome = genomes.Genome(\"athaliana_tair10\")\n",
    "\n",
    "\n",
    "db_file = \"/groups/nordborg/projects/field_experiments/007.pilot.sequencing/018.genotyping.by.plate/996.Swedes.220_6.newReSeq.July2020/002.mergeVCF/02_Swedes200_6.newReSeq_2.3M.BIALLELIC.hdf5\"\n",
    "parents = \"6046x6191_reSeq\"\n",
    "geno_cross = genotype_cross.GenotypeCross(snp_genotype.load_genotype_files( db_file ), parents )"
   ]
  },
  {
   "cell_type": "markdown",
   "id": "reserved-poker",
   "metadata": {},
   "source": [
    "### input files\n",
    "\n",
    "You could provide input either by a SNP matrix or even a VCF file"
   ]
  },
  {
   "cell_type": "code",
   "execution_count": 2,
   "id": "enormous-prediction",
   "metadata": {
    "execution": {
     "iopub.execute_input": "2021-06-01T09:43:57.884047Z",
     "iopub.status.busy": "2021-06-01T09:43:57.883777Z",
     "iopub.status.idle": "2021-06-01T09:44:09.033596Z",
     "shell.execute_reply": "2021-06-01T09:44:09.032919Z",
     "shell.execute_reply.started": "2021-06-01T09:43:57.884026Z"
    }
   },
   "outputs": [],
   "source": [
    "# input hdf5 file -- makedb on the VCF file\n",
    "# input_snps_file = \"/groups/nordborg/projects/epiclines/005.manu.crosses.2020/004.design_resolved/snps_bcftools/f2_batchthree.maf_filtered.hdf5\"\n",
    "# input_snps = snp_genotype.load_genotype_files( input_snps_file )\n",
    "# segregating_ix = geno_cross.g.get_common_positions( geno_cross.commonSNPsCHR, geno_cross.commonSNPsPOS, np.array(input_snps.g.chromosomes), input_snps.g.positions)\n",
    "\n",
    "\n",
    "## input vcf file for the samples\n",
    "input_vcf_file = \"/groups/nordborg/projects/epiclines/005.manu.crosses.2020/004.design_resolved/snps_bcftools/f2_26052021.maf_filtered.vcf\" \n",
    "snpvcf = parsers.import_vcf_file(inFile =  input_vcf_file , logDebug = False, samples_to_load = None, add_fields=['calldata/DP'])\n",
    "samples_ids = pd.Series(snpvcf['samples']) \n",
    "samples_gt = snpvcf['gt']\n",
    "samples_gt = pd.DataFrame(samples_gt.astype(str))\n",
    "segregating_ix = geno_cross.g.get_common_positions( geno_cross.commonSNPsCHR, geno_cross.commonSNPsPOS, snpvcf['chr'], snpvcf['pos'] )"
   ]
  },
  {
   "cell_type": "code",
   "execution_count": 51,
   "id": "harmful-captain",
   "metadata": {
    "execution": {
     "iopub.execute_input": "2021-05-28T09:10:58.968513Z",
     "iopub.status.busy": "2021-05-28T09:10:58.968239Z",
     "iopub.status.idle": "2021-05-28T09:10:58.970686Z",
     "shell.execute_reply": "2021-05-28T09:10:58.970283Z",
     "shell.execute_reply.started": "2021-05-28T09:10:58.968492Z"
    }
   },
   "outputs": [],
   "source": [
    "# # sample_ix = np.where(samples_ids.str.contains('P_6046'))[0]   ## ancestral state 0\n",
    "# sample_ix = np.where(samples_ids.str.contains('P_6191'))[0]  ## ancestral state 1\n",
    "# # sample_ix = np.where(samples_ids.str.contains('F1'))[0]  #### Het\n",
    "\n",
    "\n",
    "# t_genotypes_raw = pd.Series(allSNPGenos_raw.iloc[:,sample_ix].values.flatten())\n",
    "# t_genotypes_raw.value_counts( normalize = True, sort = False )"
   ]
  },
  {
   "cell_type": "code",
   "execution_count": 179,
   "id": "recovered-updating",
   "metadata": {
    "execution": {
     "iopub.execute_input": "2021-05-28T12:56:32.211322Z",
     "iopub.status.busy": "2021-05-28T12:56:32.211091Z",
     "iopub.status.idle": "2021-05-28T12:56:32.214583Z",
     "shell.execute_reply": "2021-05-28T12:56:32.214219Z",
     "shell.execute_reply.started": "2021-05-28T12:56:32.211296Z"
    }
   },
   "outputs": [
    {
     "data": {
      "text/plain": [
       "(array([394]),)"
      ]
     },
     "execution_count": 179,
     "metadata": {},
     "output_type": "execute_result"
    }
   ],
   "source": [
    "np.where( snpvcf['samples'] == \"T4_P2.C11_F2_D1\" )"
   ]
  },
  {
   "cell_type": "code",
   "execution_count": 64,
   "id": "unsigned-debut",
   "metadata": {
    "execution": {
     "iopub.execute_input": "2021-06-01T07:31:36.218371Z",
     "iopub.status.busy": "2021-06-01T07:31:36.218047Z",
     "iopub.status.idle": "2021-06-01T07:31:36.416538Z",
     "shell.execute_reply": "2021-06-01T07:31:36.415633Z",
     "shell.execute_reply.started": "2021-06-01T07:31:36.218349Z"
    }
   },
   "outputs": [],
   "source": [
    "t_chr_ix = 0\n",
    "sample_ix = 394\n",
    "ec = np.unique(snpvcf['chr'])[t_chr_ix] \n",
    "eclen = genome.chrlen[t_chr_ix]\n",
    "reqChrind = np.where( snpvcf['chr'][segregating_ix[1]] == ec)[0]\n",
    "\n",
    "t_sample_snps = parsers.parseGT(samples_gt.iloc[:,sample_ix][segregating_ix[1][reqChrind]].values)\n",
    "# input_snps.g_acc.snps[:,sample_ix][segregating_ix[1][reqChrind]]\n",
    "t_snps_p1 = geno_cross.snpsP1[segregating_ix[0][reqChrind]]\n",
    "t_snps_p2 = geno_cross.snpsP2[segregating_ix[0][reqChrind]]\n",
    "\n",
    "# t_depth = 1.5\n",
    "t_depth = snpvcf['calldata/DP'][:,sample_ix][segregating_ix[1][reqChrind]]\n",
    "t_base_error = 0.03\n",
    "\n",
    "t_model = infer.IdentifyAncestryF2individual(chromosome_size= eclen/1000000, snps_p1 = t_snps_p1, snps_p2 = t_snps_p2, recomb_rate=3.5, base_error = t_base_error, sample_depth= t_depth, error_p1 = 0.0001, error_p2 = 0.0001)\n",
    "t_model.geno_raw = infer.polarize_snps(t_sample_snps, t_snps_p1, t_snps_p2 )\n",
    "t_model.output = t_model.viterbi( t_sample_snps )\n",
    "\n",
    "t_homo_model = infer.IdentifyStrechesofHeterozygosity(chromosome_size= eclen/1000000, num_markers = t_sample_snps.shape[0], avg_sites_segregating=0.8, sample_depth=t_depth, fraction_homo_parents = 0.99, base_error=t_base_error, recomb_rate=3.5)\n",
    "t_homo_model.geno_raw = t_homo_model.snp_to_observations( t_sample_snps )\n",
    "t_homo_model.out_geno = t_homo_model.viterbi( t_sample_snps )\n",
    "\n",
    "# # # uniq_neighbor( t_genotypes[1] )\n",
    "# print( \"%s\" % t_model.output[0] )\n",
    "# sns.heatmap( model.model.predict_proba(t_genotypes_raw.reshape((-1, 1))).T, cmap = \"Reds\" )"
   ]
  },
  {
   "cell_type": "code",
   "execution_count": 28,
   "id": "black-crowd",
   "metadata": {
    "execution": {
     "iopub.execute_input": "2021-05-31T17:16:54.333784Z",
     "iopub.status.busy": "2021-05-31T17:16:54.333465Z",
     "iopub.status.idle": "2021-05-31T17:16:54.342020Z",
     "shell.execute_reply": "2021-05-31T17:16:54.341556Z",
     "shell.execute_reply.started": "2021-05-31T17:16:54.333759Z"
    }
   },
   "outputs": [
    {
     "data": {
      "text/html": [
       "<div>\n",
       "<style scoped>\n",
       "    .dataframe tbody tr th:only-of-type {\n",
       "        vertical-align: middle;\n",
       "    }\n",
       "\n",
       "    .dataframe tbody tr th {\n",
       "        vertical-align: top;\n",
       "    }\n",
       "\n",
       "    .dataframe thead th {\n",
       "        text-align: right;\n",
       "    }\n",
       "</style>\n",
       "<table border=\"1\" class=\"dataframe\">\n",
       "  <thead>\n",
       "    <tr style=\"text-align: right;\">\n",
       "      <th></th>\n",
       "      <th>0</th>\n",
       "      <th>1</th>\n",
       "      <th>2</th>\n",
       "    </tr>\n",
       "  </thead>\n",
       "  <tbody>\n",
       "    <tr>\n",
       "      <th>0</th>\n",
       "      <td>1.0</td>\n",
       "      <td>1.0</td>\n",
       "      <td>1.0</td>\n",
       "    </tr>\n",
       "    <tr>\n",
       "      <th>1</th>\n",
       "      <td>1.0</td>\n",
       "      <td>1.0</td>\n",
       "      <td>1.0</td>\n",
       "    </tr>\n",
       "  </tbody>\n",
       "</table>\n",
       "</div>"
      ],
      "text/plain": [
       "     0    1    2\n",
       "0  1.0  1.0  1.0\n",
       "1  1.0  1.0  1.0"
      ]
     },
     "execution_count": 28,
     "metadata": {},
     "output_type": "execute_result"
    }
   ],
   "source": [
    "pd.DataFrame(t_homo_model.calc_emissions( 0.03, sample_depth=np.array([0]), fraction_homo_parents=0.99, avg_sites_segregating=0.8 )[:,:,0])"
   ]
  },
  {
   "cell_type": "code",
   "execution_count": 65,
   "id": "iraqi-boating",
   "metadata": {
    "execution": {
     "iopub.execute_input": "2021-06-01T07:31:37.362089Z",
     "iopub.status.busy": "2021-06-01T07:31:37.361812Z",
     "iopub.status.idle": "2021-06-01T07:31:37.891135Z",
     "shell.execute_reply": "2021-06-01T07:31:37.890708Z",
     "shell.execute_reply.started": "2021-06-01T07:31:37.362066Z"
    }
   },
   "outputs": [
    {
     "data": {
      "image/png": "[encoded data removed]",
      "text/plain": [
       "<Figure size 432x432 with 3 Axes>"
      ]
     },
     "metadata": {
      "needs_background": "light"
     },
     "output_type": "display_data"
    }
   ],
   "source": [
    "p = sns.jointplot(x = np.arange(t_model.geno_raw.shape[0]), y =  t_model.geno_raw, kind=\"hex\", joint_kws=dict(gridsize=40))\n",
    "# p = sns.jointplot(x = np.arange(t_model.geno_raw.shape[0]), y = t_sample_snps, kind=\"hex\", joint_kws=dict(gridsize=40))\n",
    "p.ax_joint.plot(np.arange(t_model.geno_raw.shape[0]), t_model.output[0], 'r-')\n",
    "p.ax_joint.plot(np.arange(t_homo_model.out_geno[0].shape[0]), t_homo_model.out_geno[0], 'b--' )\n",
    "\n",
    "# p.ax_joint.plot(np.arange(t_homo_model.out_geno[1].shape[0]), myown[0], 'g-.' )\n",
    "\n",
    "# p.ax_marg_x.set_title( \"%s in %s \" % (input_snps.accessions[sample_ix], ec) )\n",
    "p.ax_marg_x.set_title( \"%s in %s \" % (snpvcf['samples'][sample_ix], ec) )\n",
    "\n",
    "plt.show()"
   ]
  },
  {
   "cell_type": "markdown",
   "id": "imperial-patent",
   "metadata": {},
   "source": [
    "## Mapped to pacbio 6046"
   ]
  },
  {
   "cell_type": "code",
   "execution_count": 671,
   "id": "vocal-navigator",
   "metadata": {
    "execution": {
     "iopub.execute_input": "2021-06-01T15:05:55.514237Z",
     "iopub.status.busy": "2021-06-01T15:05:55.513921Z",
     "iopub.status.idle": "2021-06-01T15:06:05.439651Z",
     "shell.execute_reply": "2021-06-01T15:06:05.439169Z",
     "shell.execute_reply.started": "2021-06-01T15:05:55.514212Z"
    }
   },
   "outputs": [],
   "source": [
    "snpvcf_pcbio = parsers.import_vcf_file(inFile =  \"/groups/nordborg/projects/epiclines/005.manu.crosses.2020/006.mapping_to_pacbio/003.mapped_to_6046/snps_bcftools/f2_mapped6046.maf_filtered.vcf.gz\" , logDebug = False, samples_to_load = None, add_fields=['calldata/DP'])"
   ]
  },
  {
   "cell_type": "code",
   "execution_count": 3,
   "id": "collaborative-chemistry",
   "metadata": {
    "execution": {
     "iopub.execute_input": "2021-06-02T09:02:11.439663Z",
     "iopub.status.busy": "2021-06-02T09:02:11.438941Z",
     "iopub.status.idle": "2021-06-02T09:03:12.825245Z",
     "shell.execute_reply": "2021-06-02T09:03:12.823878Z",
     "shell.execute_reply.started": "2021-06-02T09:02:11.439615Z"
    }
   },
   "outputs": [],
   "source": [
    "snpvcf_pcbio = parsers.import_vcf_file(inFile =  \"/groups/nordborg/projects/epiclines/005.manu.crosses.2020/006.mapping_to_pacbio/003.mapped_to_6046/snps_bcftools/variants_bcftools/T16_P1.A12_F2_D1.snps.vcf.gz\" , logDebug = False, samples_to_load = None, add_fields=['calldata/DP'])"
   ]
  },
  {
   "cell_type": "code",
   "execution_count": 433,
   "id": "original-editing",
   "metadata": {
    "execution": {
     "iopub.execute_input": "2021-06-01T11:21:25.835090Z",
     "iopub.status.busy": "2021-06-01T11:21:25.834445Z",
     "iopub.status.idle": "2021-06-01T11:21:25.845408Z",
     "shell.execute_reply": "2021-06-01T11:21:25.844522Z",
     "shell.execute_reply.started": "2021-06-01T11:21:25.835035Z"
    }
   },
   "outputs": [
    {
     "data": {
      "text/plain": [
       "(array([ 35,  65,  93, 114, 124, 264, 312, 343, 355, 365, 370, 374, 395,\n",
       "        405, 521, 529, 550]),)"
      ]
     },
     "execution_count": 433,
     "metadata": {},
     "output_type": "execute_result"
    }
   ],
   "source": [
    "np.where(pd.Series(snpvcf_pcbio['samples']).str.contains(\"P_6191\"))"
   ]
  },
  {
   "cell_type": "code",
   "execution_count": 6,
   "id": "dietary-royal",
   "metadata": {
    "execution": {
     "iopub.execute_input": "2021-06-02T09:04:48.118479Z",
     "iopub.status.busy": "2021-06-02T09:04:48.117592Z",
     "iopub.status.idle": "2021-06-02T09:04:48.125352Z",
     "shell.execute_reply": "2021-06-02T09:04:48.124834Z",
     "shell.execute_reply.started": "2021-06-02T09:04:48.118442Z"
    }
   },
   "outputs": [
    {
     "data": {
      "text/plain": [
       "array(['6046_Chr1', '6046_Chr1', '6046_Chr1', ..., '6046_ChrM',\n",
       "       '6046_ChrM', '6046_ChrM'], dtype='<U9')"
      ]
     },
     "execution_count": 6,
     "metadata": {},
     "output_type": "execute_result"
    }
   ],
   "source": [
    "snpvcf_pcbio['chr']"
   ]
  },
  {
   "cell_type": "code",
   "execution_count": 7,
   "id": "improved-submission",
   "metadata": {
    "execution": {
     "iopub.execute_input": "2021-06-02T09:05:11.063519Z",
     "iopub.status.busy": "2021-06-02T09:05:11.062788Z",
     "iopub.status.idle": "2021-06-02T09:05:15.354523Z",
     "shell.execute_reply": "2021-06-02T09:05:15.351737Z",
     "shell.execute_reply.started": "2021-06-02T09:05:11.063480Z"
    }
   },
   "outputs": [],
   "source": [
    "t_chr_ix = 1\n",
    "sample_ix = 0 ### 40, 57 is interesting for chr2\n",
    "\n",
    "t_avg_seg = {0: 0.95, 1: 0.9, 2: 0.98, 3: 0.98, 4: 0.98 }  ##\n",
    "t_p_error = {0: 0.001, 1: 0.0097, 2: 0.0097, 3: 0.0097, 4: 0.0097 }\n",
    "t_base_error = 0.03\n",
    "\n",
    "ec = np.unique(snpvcf_pcbio['chr'])[t_chr_ix] \n",
    "eclen = genome.chrlen[t_chr_ix]\n",
    "reqChrind_pcbio = np.where( snpvcf_pcbio['chr'] == ec )[0]\n",
    "\n",
    "t_sample_snps =  parsers.parseGT( snpvcf_pcbio['gt'][:, sample_ix][reqChrind_pcbio] )\n",
    "t_depth = snpvcf_pcbio['calldata/DP'][:,sample_ix][reqChrind_pcbio]\n",
    "\n",
    "\n",
    "# # t_model_pc = infer.IdentifyAncestryF2individual(chromosome_size= eclen/1000000, snps_p1 = t_snps_p1, snps_p2 = t_snps_p2, recomb_rate=3.5, base_error = t_base_error, sample_depth= t_depth, error_p1 = 0.00001, error_p2 = 0.01)\n",
    "t_model_pc = infer.IdentifyAncestryF2_RefvsnonRef(chromosome_size= eclen/1000000, num_markers = t_sample_snps.shape[0], recomb_rate=3.5, base_error = t_base_error, sample_depth= t_depth, avg_sites_segregating=t_avg_seg[t_chr_ix], fraction_homo_parents=0.975, error_p1 = t_p_error[t_chr_ix], error_p2 = t_p_error[t_chr_ix])\n",
    "t_model_pc.geno_raw = t_model_pc.snp_to_observations( t_sample_snps )\n",
    "# t_model_pc.output = t_model_pc.viterbi( t_sample_snps )\n",
    "\n",
    "# p = sns.jointplot(x = np.arange(t_model_pc.geno_raw.shape[0]), y =  t_model_pc.geno_raw, kind=\"hex\", joint_kws=dict(gridsize=40))\n",
    "# p.ax_joint.plot(np.arange(t_model_pc.geno_raw.shape[0]), t_model_pc.output[0], 'r-')\n",
    "# # p.ax_marg_x.set_title( \"%s in %s \" % (input_snps.accessions[sample_ix], ec) )\n",
    "# p.ax_marg_x.set_title( \"%s in %s \" % (snpvcf_pcbio['samples'][sample_ix], ec) )\n",
    "\n",
    "# plt.show()"
   ]
  },
  {
   "cell_type": "code",
   "execution_count": 9,
   "id": "secure-marketing",
   "metadata": {
    "execution": {
     "iopub.execute_input": "2021-06-02T09:05:29.662960Z",
     "iopub.status.busy": "2021-06-02T09:05:29.662433Z",
     "iopub.status.idle": "2021-06-02T09:05:29.672001Z",
     "shell.execute_reply": "2021-06-02T09:05:29.671523Z",
     "shell.execute_reply.started": "2021-06-02T09:05:29.662932Z"
    }
   },
   "outputs": [
    {
     "data": {
      "text/plain": [
       "(3264583,)"
      ]
     },
     "execution_count": 9,
     "metadata": {},
     "output_type": "execute_result"
    }
   ],
   "source": [
    "t_sample_snps.shape"
   ]
  },
  {
   "cell_type": "code",
   "execution_count": 14,
   "id": "metropolitan-reflection",
   "metadata": {
    "execution": {
     "iopub.execute_input": "2021-06-02T09:06:56.998250Z",
     "iopub.status.busy": "2021-06-02T09:06:56.997211Z",
     "iopub.status.idle": "2021-06-02T09:06:58.890979Z",
     "shell.execute_reply": "2021-06-02T09:06:58.890192Z",
     "shell.execute_reply.started": "2021-06-02T09:06:56.998201Z"
    }
   },
   "outputs": [
    {
     "data": {
      "image/png": "[encoded data removed]",
      "text/plain": [
       "<Figure size 432x432 with 3 Axes>"
      ]
     },
     "metadata": {
      "needs_background": "light"
     },
     "output_type": "display_data"
    }
   ],
   "source": [
    "p = sns.jointplot(x = np.arange(t_model_pc.geno_raw.shape[0]), y =  t_model_pc.geno_raw, kind=\"hex\", joint_kws=dict(gridsize=40))\n",
    "# p.ax_joint.plot(np.arange(t_model_pc.geno_raw.shape[0]), t_model_pc.output[0], 'r-')\n",
    "# # p.ax_marg_x.set_title( \"%s in %s \" % (input_snps.accessions[sample_ix], ec) )\n",
    "# p.ax_marg_x.set_title( \"%s in %s \" % (snpvcf_pcbio['samples'][sample_ix], ec) )\n",
    "\n",
    "plt.show()"
   ]
  },
  {
   "cell_type": "code",
   "execution_count": 668,
   "id": "funky-refund",
   "metadata": {
    "execution": {
     "iopub.execute_input": "2021-06-01T14:58:04.995739Z",
     "iopub.status.busy": "2021-06-01T14:58:04.995260Z",
     "iopub.status.idle": "2021-06-01T14:58:05.006940Z",
     "shell.execute_reply": "2021-06-01T14:58:05.006445Z",
     "shell.execute_reply.started": "2021-06-01T14:58:04.995711Z"
    }
   },
   "outputs": [
    {
     "name": "stdout",
     "output_type": "stream",
     "text": [
      "1\n",
      "0\n"
     ]
    },
    {
     "data": {
      "text/html": [
       "<div>\n",
       "<style scoped>\n",
       "    .dataframe tbody tr th:only-of-type {\n",
       "        vertical-align: middle;\n",
       "    }\n",
       "\n",
       "    .dataframe tbody tr th {\n",
       "        vertical-align: top;\n",
       "    }\n",
       "\n",
       "    .dataframe thead th {\n",
       "        text-align: right;\n",
       "    }\n",
       "</style>\n",
       "<table border=\"1\" class=\"dataframe\">\n",
       "  <thead>\n",
       "    <tr style=\"text-align: right;\">\n",
       "      <th></th>\n",
       "      <th>00</th>\n",
       "      <th>01</th>\n",
       "      <th>11</th>\n",
       "      <th>NA</th>\n",
       "    </tr>\n",
       "  </thead>\n",
       "  <tbody>\n",
       "    <tr>\n",
       "      <th>AA</th>\n",
       "      <td>0.949360</td>\n",
       "      <td>2.655511e-17</td>\n",
       "      <td>0.050640</td>\n",
       "      <td>1.0</td>\n",
       "    </tr>\n",
       "    <tr>\n",
       "      <th>AB</th>\n",
       "      <td>0.546088</td>\n",
       "      <td>3.202146e-18</td>\n",
       "      <td>0.453912</td>\n",
       "      <td>1.0</td>\n",
       "    </tr>\n",
       "    <tr>\n",
       "      <th>BB</th>\n",
       "      <td>0.141629</td>\n",
       "      <td>2.192529e-17</td>\n",
       "      <td>0.858371</td>\n",
       "      <td>1.0</td>\n",
       "    </tr>\n",
       "  </tbody>\n",
       "</table>\n",
       "</div>"
      ],
      "text/plain": [
       "          00            01        11   NA\n",
       "AA  0.949360  2.655511e-17  0.050640  1.0\n",
       "AB  0.546088  3.202146e-18  0.453912  1.0\n",
       "BB  0.141629  2.192529e-17  0.858371  1.0"
      ]
     },
     "execution_count": 668,
     "metadata": {},
     "output_type": "execute_result"
    }
   ],
   "source": [
    "t_ix = 77\n",
    "print(t_depth[t_ix])\n",
    "print( t_model_pc.geno_raw[t_ix] )\n",
    "pd.DataFrame(t_model_pc.emission_prob[:,:,t_ix], index = t_model_pc.ancestry, columns=t_model_pc.observed_states)\n"
   ]
  },
  {
   "cell_type": "code",
   "execution_count": 99,
   "id": "civil-fight",
   "metadata": {
    "execution": {
     "iopub.execute_input": "2021-06-01T10:06:29.259693Z",
     "iopub.status.busy": "2021-06-01T10:06:29.259464Z",
     "iopub.status.idle": "2021-06-01T10:06:29.266520Z",
     "shell.execute_reply": "2021-06-01T10:06:29.266159Z",
     "shell.execute_reply.started": "2021-06-01T10:06:29.259674Z"
    }
   },
   "outputs": [
    {
     "data": {
      "text/html": [
       "<div>\n",
       "<style scoped>\n",
       "    .dataframe tbody tr th:only-of-type {\n",
       "        vertical-align: middle;\n",
       "    }\n",
       "\n",
       "    .dataframe tbody tr th {\n",
       "        vertical-align: top;\n",
       "    }\n",
       "\n",
       "    .dataframe thead th {\n",
       "        text-align: right;\n",
       "    }\n",
       "</style>\n",
       "<table border=\"1\" class=\"dataframe\">\n",
       "  <thead>\n",
       "    <tr style=\"text-align: right;\">\n",
       "      <th></th>\n",
       "      <th>00||11</th>\n",
       "      <th>01</th>\n",
       "      <th>NA</th>\n",
       "    </tr>\n",
       "  </thead>\n",
       "  <tbody>\n",
       "    <tr>\n",
       "      <th>HOMO</th>\n",
       "      <td>1.0</td>\n",
       "      <td>0.0</td>\n",
       "      <td>1.0</td>\n",
       "    </tr>\n",
       "    <tr>\n",
       "      <th>HET</th>\n",
       "      <td>1.0</td>\n",
       "      <td>0.0</td>\n",
       "      <td>1.0</td>\n",
       "    </tr>\n",
       "  </tbody>\n",
       "</table>\n",
       "</div>"
      ],
      "text/plain": [
       "      00||11   01   NA\n",
       "HOMO     1.0  0.0  1.0\n",
       "HET      1.0  0.0  1.0"
      ]
     },
     "execution_count": 99,
     "metadata": {},
     "output_type": "execute_result"
    }
   ],
   "source": [
    "pd.DataFrame(t_homo_model_pc.emission_prob[:,:,t_ix], index=t_homo_model_pc.hidden_states, columns=t_homo_model_pc.observed_states)"
   ]
  }
 ],
 "metadata": {
  "kernelspec": {
   "display_name": "Python [conda env:.conda-py3_quant]",
   "language": "python",
   "name": "conda-env-.conda-py3_quant-py"
  },
  "language_info": {
   "codemirror_mode": {
    "name": "ipython",
    "version": 3
   },
   "file_extension": ".py",
   "mimetype": "text/x-python",
   "name": "python",
   "nbconvert_exporter": "python",
   "pygments_lexer": "ipython3",
   "version": "3.7.6"
  },
  "widgets": {
   "application/vnd.jupyter.widget-state+json": {
    "state": {},
    "version_major": 2,
    "version_minor": 0
   }
  }
 },
 "nbformat": 4,
 "nbformat_minor": 5
}
