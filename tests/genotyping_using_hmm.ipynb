{
 "cells": [
  {
   "cell_type": "markdown",
   "id": "sunrise-arctic",
   "metadata": {},
   "source": [
    "# genotyping using HMM"
   ]
  },
  {
   "cell_type": "code",
   "execution_count": 1,
   "id": "collaborative-symphony",
   "metadata": {
    "execution": {
     "iopub.status.idle": "2021-04-22T12:30:49.292508Z",
     "shell.execute_reply": "2021-04-22T12:30:49.291742Z",
     "shell.execute_reply.started": "2021-04-22T12:30:47.456956Z"
    }
   },
   "outputs": [],
   "source": [
    "import numpy as np\n",
    "import numpy.ma \n",
    "import pandas as pd\n",
    "import seaborn as sns\n",
    "from snpmatch.core import parsers, genomes, genotype_cross, snp_genotype\n",
    "import logging\n",
    "log = logging.getLogger(__name__)"
   ]
  },
  {
   "cell_type": "code",
   "execution_count": 2,
   "id": "surgical-sally",
   "metadata": {
    "execution": {
     "iopub.execute_input": "2021-04-22T12:30:51.031714Z",
     "iopub.status.busy": "2021-04-22T12:30:51.031214Z",
     "iopub.status.idle": "2021-04-22T12:30:51.037638Z",
     "shell.execute_reply": "2021-04-22T12:30:51.037026Z",
     "shell.execute_reply.started": "2021-04-22T12:30:51.031671Z"
    }
   },
   "outputs": [],
   "source": [
    "genome = genomes.Genome(\"athaliana_tair10\")"
   ]
  },
  {
   "cell_type": "code",
   "execution_count": 3,
   "id": "sitting-response",
   "metadata": {
    "execution": {
     "iopub.execute_input": "2021-04-22T12:30:51.577003Z",
     "iopub.status.busy": "2021-04-22T12:30:51.576631Z",
     "iopub.status.idle": "2021-04-22T12:30:52.704718Z",
     "shell.execute_reply": "2021-04-22T12:30:52.703713Z",
     "shell.execute_reply.started": "2021-04-22T12:30:51.576973Z"
    }
   },
   "outputs": [],
   "source": [
    "g = snp_genotype.load_genotype_files( \"/groups/nordborg/projects/field_experiments/007.pilot.sequencing/018.genotyping.by.plate/996.Swedes.220_6.newReSeq.July2020/002.mergeVCF/02_Swedes200_6.newReSeq_2.3M.BIALLELIC.hdf5\" )\n",
    "geno_cross = genotype_cross.GenotypeCross(g, \"6046x6191_reSeq\" )"
   ]
  },
  {
   "cell_type": "code",
   "execution_count": 4,
   "id": "residential-nicaragua",
   "metadata": {
    "execution": {
     "iopub.execute_input": "2021-04-22T12:30:52.706266Z",
     "iopub.status.busy": "2021-04-22T12:30:52.705992Z",
     "iopub.status.idle": "2021-04-22T12:31:13.122384Z",
     "shell.execute_reply": "2021-04-22T12:31:13.121532Z",
     "shell.execute_reply.started": "2021-04-22T12:30:52.706239Z"
    }
   },
   "outputs": [],
   "source": [
    "snpvcf = parsers.import_vcf_file(inFile = \"/groups/nordborg/projects/epiclines/005.manu.crosses.2020/004.design_resolved/snps_bcftools/f2_batchthree.maf_filtered.vcf.gz\" , logDebug = False, samples_to_load = None)\n",
    "samples_ids = pd.Series(snpvcf['samples']) \n",
    "samples_gt = snpvcf['gt']\n",
    "samples_gt = pd.DataFrame(samples_gt.astype(str))\n",
    "input_chr_names = genome.chrs[pd.Series(snpvcf['chr'], dtype = str).apply(genome.get_chr_ind)]\n",
    "g_chr_names = genome.chrs[pd.Series(geno_cross.commonSNPsCHR, dtype = str).apply(genome.get_chr_ind)]\n"
   ]
  },
  {
   "cell_type": "code",
   "execution_count": 169,
   "id": "exclusive-harvest",
   "metadata": {
    "execution": {
     "iopub.execute_input": "2021-04-22T13:33:58.586298Z",
     "iopub.status.busy": "2021-04-22T13:33:58.585977Z",
     "iopub.status.idle": "2021-04-22T13:33:58.603057Z",
     "shell.execute_reply": "2021-04-22T13:33:58.602382Z",
     "shell.execute_reply.started": "2021-04-22T13:33:58.586272Z"
    }
   },
   "outputs": [],
   "source": [
    "def uniq_neighbor(a):\n",
    "    sorted_a_count = np.zeros(1, dtype = int)\n",
    "    sorted_a = np.zeros(0, dtype = a.dtype)\n",
    "    for ef_ix in range(0, len(a)):\n",
    "        if a[ef_ix] != a[ef_ix-1]:\n",
    "            sorted_a = np.append(sorted_a, a[ef_ix])\n",
    "            sorted_a_count = np.append(sorted_a_count, 1)\n",
    "        elif a[ef_ix] == a[ef_ix-1]:\n",
    "            sorted_a_count[-1] += 1\n",
    "        elif np.sum(sorted_a_count) == 0:\n",
    "            sorted_a = np.append(sorted_a, a[ef_ix])\n",
    "            sorted_a_count[-1] += 1\n",
    "    return((sorted_a, sorted_a_count))\n",
    "        \n",
    "def get_parental_obs(input_gt, snpsP1_gt, snpsP2_gt, polarize = None):\n",
    "    num_snps = len(input_gt)\n",
    "    ebTarGTs = parsers.parseGT(input_gt)\n",
    "    ebPolarised = np.zeros(num_snps, dtype=int)\n",
    "    ### Here I am having 6 observed states. to consider SNPs where either of the parent shows -1 \n",
    "    ## ('00', '01', '11', '0', '1', 'NA') \n",
    "    ##    0,    1,    2,   3,   4,    5\n",
    "    ebPolarised[:] = 5\n",
    "    ebPolarised[np.where(np.equal( ebTarGTs, np.repeat(2, num_snps) ))[0] ] = 1\n",
    "    snpsP1_gt_mask = numpy.ma.masked_less(numpy.ma.masked_greater(snpsP1_gt, 1), 0)\n",
    "    snpsP2_gt_mask = numpy.ma.masked_less(numpy.ma.masked_greater(snpsP2_gt, 1), 0)\n",
    "    ebPolarised[np.where((np.equal( ebTarGTs, snpsP1_gt_mask )) & (~snpsP2_gt_mask) )[0] ] = 0  ## 00\n",
    "    ebPolarised[np.where((np.equal( ebTarGTs, snpsP1_gt_mask )) & (snpsP2_gt_mask) )[0] ] = 3 ## 0\n",
    "    ebPolarised[np.where((np.equal( ebTarGTs, snpsP2_gt_mask )) & (~snpsP1_gt_mask) )[0] ] = 2  ## 11\n",
    "    ebPolarised[np.where((np.equal( ebTarGTs, snpsP2_gt_mask )) & (snpsP1_gt_mask) )[0] ] = 4 ## 1\n",
    "#     if polarize == \"p1\":\n",
    "#         ebPolarised[np.where(np.equal( ebTarGTs, snpsP1_gt_mask ))[0] ] = 0\n",
    "#         ebPolarised[np.where(np.equal( ebTarGTs, 1 - snpsP1_gt_mask ))[0] ] = 4\n",
    "#     elif polarize == \"p2\":\n",
    "#         ebPolarised[np.where(np.equal( ebTarGTs, snpsP2_gt_mask ))[0] ] = 2\n",
    "#         ebPolarised[np.where(np.equal( ebTarGTs, 1 - snpsP2_gt_mask ))[0] ] = 3\n",
    "#     else:\n",
    "    return(ebPolarised)\n",
    "\n",
    "def init_hmm(num_markers, chromosome_size = 115, recomb_rate = 3.3):\n",
    "    \"\"\"\n",
    "    Function to initilize a HMM model \n",
    "    Input: \n",
    "        number of markers\n",
    "        recomb_rate: assumed rate of recombination (cM per Mb)\n",
    "        genome_size: size of chromosome in Mb\n",
    "    \"\"\"\n",
    "    from hmmlearn import hmm\n",
    "    ### The below transition probability is for a intercross, adapted from R/qtl\n",
    "    log.info(\"Initialising HMM\")\n",
    "    states = ('aa', 'ab', 'bb')\n",
    "    observations = ('00', '01', '11', '0', '1', 'NA')\n",
    "    ## assume A. thaliana genome size of 115 Mb \n",
    "    ## First calculate the average spacing between the markers\n",
    "    ## chromosome_size / num_markers \n",
    "    ##_____\n",
    "    ## given a recombination rate of ~3.3 \n",
    "    # probability you see a recombinant is 1 / (100 * recomb_rate)\n",
    "    prob_of_change = ( chromosome_size / num_markers ) * ( 1 / (100 * recomb_rate)  )\n",
    "    transmission_prob = {\n",
    "        'aa': {'aa': 1 - prob_of_change, 'ab': prob_of_change/2, 'bb': prob_of_change/2},\n",
    "        'ab': {'aa': prob_of_change/2, 'ab': 1 - prob_of_change, 'bb': prob_of_change/2},\n",
    "        'bb': {'aa': prob_of_change/2, 'ab': prob_of_change/2, 'bb': 1 - prob_of_change}\n",
    "    }\n",
    "    ## Since I have 6 possible observed states -- I have made an emmission matrix with such a structure.\n",
    "    emission_prob = {\n",
    "        'aa': {'00': 0.599, '01': 0.1, '11': 0.001, '0': 0.52, '1': 0, 'NA': 0.33},\n",
    "        'ab': {'00': 0.4, '01': 0.8, '11': 0.4, '0': 0.48, '1': 0.48, 'NA': 0.34},\n",
    "        'bb': {'00': 0.001, '01': 0.1, '11': 0.599, '0': 0, '1': 0.52, 'NA': 0.33}\n",
    "    }\n",
    "    model = hmm.MultinomialHMM(n_components=3) \n",
    "    model.startprob_ = np.array([0.25, 0.5, 0.25])\n",
    "    model.transmat_ = pd.DataFrame(transmission_prob)\n",
    "    model.emissionprob_ = pd.DataFrame(emission_prob).T\n",
    "    return(model)"
   ]
  },
  {
   "cell_type": "code",
   "execution_count": 111,
   "id": "casual-harmony",
   "metadata": {
    "execution": {
     "iopub.execute_input": "2021-04-22T13:18:15.422170Z",
     "iopub.status.busy": "2021-04-22T13:18:15.421867Z",
     "iopub.status.idle": "2021-04-22T13:18:15.426166Z",
     "shell.execute_reply": "2021-04-22T13:18:15.425703Z",
     "shell.execute_reply.started": "2021-04-22T13:18:15.422145Z"
    }
   },
   "outputs": [
    {
     "data": {
      "text/plain": [
       "(array([7]),)"
      ]
     },
     "execution_count": 111,
     "metadata": {},
     "output_type": "execute_result"
    }
   ],
   "source": [
    "np.where(samples_ids.values == 'T16_P1.A6_F2_D1')"
   ]
  },
  {
   "cell_type": "code",
   "execution_count": 173,
   "id": "studied-parcel",
   "metadata": {
    "execution": {
     "iopub.execute_input": "2021-04-22T13:34:48.572258Z",
     "iopub.status.busy": "2021-04-22T13:34:48.571946Z",
     "iopub.status.idle": "2021-04-22T13:34:48.602224Z",
     "shell.execute_reply": "2021-04-22T13:34:48.601688Z",
     "shell.execute_reply.started": "2021-04-22T13:34:48.572233Z"
    }
   },
   "outputs": [],
   "source": [
    "t_chr_ix = 1\n",
    "sample_ix = 1\n",
    "# sample_ix \n",
    "\n",
    "\n",
    "ec = genome.chrs[t_chr_ix] \n",
    "eclen = genome.chrlen[t_chr_ix]\n",
    "\n",
    "reqPOSind =  np.where( g_chr_names == ec)[0]\n",
    "reqTARind = np.where( input_chr_names == ec )[0]\n",
    "ebAccsInds, ebTarInds = geno_cross._get_common_positions_ixs(geno_cross.commonSNPsPOS, snpvcf['pos'], reqPOSind, reqTARind)\n",
    "\n",
    "t_genotypes_raw = get_parental_obs(samples_gt.iloc[ebTarInds,sample_ix].values, geno_cross.snpsP1[ebAccsInds], geno_cross.snpsP2[ebAccsInds])"
   ]
  },
  {
   "cell_type": "code",
   "execution_count": 174,
   "id": "foster-sunset",
   "metadata": {
    "execution": {
     "iopub.execute_input": "2021-04-22T13:34:50.153971Z",
     "iopub.status.busy": "2021-04-22T13:34:50.153607Z",
     "iopub.status.idle": "2021-04-22T13:34:50.162176Z",
     "shell.execute_reply": "2021-04-22T13:34:50.161708Z",
     "shell.execute_reply.started": "2021-04-22T13:34:50.153946Z"
    }
   },
   "outputs": [],
   "source": [
    "model = init_hmm( len(ebAccsInds), chromosome_size=eclen/1000000 )\n",
    "t_genotypes = model.predict(t_genotypes_raw.reshape((-1, 1)))"
   ]
  },
  {
   "cell_type": "code",
   "execution_count": 152,
   "id": "accredited-upgrade",
   "metadata": {
    "execution": {
     "iopub.execute_input": "2021-04-22T13:31:43.257480Z",
     "iopub.status.busy": "2021-04-22T13:31:43.257185Z",
     "iopub.status.idle": "2021-04-22T13:31:43.261215Z",
     "shell.execute_reply": "2021-04-22T13:31:43.260764Z",
     "shell.execute_reply.started": "2021-04-22T13:31:43.257456Z"
    }
   },
   "outputs": [
    {
     "data": {
      "text/plain": [
       "((2272,), (11562, 561))"
      ]
     },
     "execution_count": 152,
     "metadata": {},
     "output_type": "execute_result"
    }
   ],
   "source": [
    "t_genotypes_raw.shape, samples_gt.shape"
   ]
  },
  {
   "cell_type": "code",
   "execution_count": 134,
   "id": "cordless-price",
   "metadata": {
    "execution": {
     "iopub.execute_input": "2021-04-22T13:25:45.955016Z",
     "iopub.status.busy": "2021-04-22T13:25:45.954625Z",
     "iopub.status.idle": "2021-04-22T13:25:45.962438Z",
     "shell.execute_reply": "2021-04-22T13:25:45.961989Z",
     "shell.execute_reply.started": "2021-04-22T13:25:45.954985Z"
    }
   },
   "outputs": [
    {
     "data": {
      "text/plain": [
       "(array([2, 1, 2, 1, 2, 1, 2, 1]),\n",
       " array([ 680,  165,   43,  150,   14, 1045,   29,   95,   51]))"
      ]
     },
     "execution_count": 134,
     "metadata": {},
     "output_type": "execute_result"
    }
   ],
   "source": [
    "uniq_neighbor( t_genotypes )"
   ]
  },
  {
   "cell_type": "code",
   "execution_count": 129,
   "id": "surrounded-likelihood",
   "metadata": {
    "execution": {
     "iopub.execute_input": "2021-04-22T13:22:18.298259Z",
     "iopub.status.busy": "2021-04-22T13:22:18.297955Z",
     "iopub.status.idle": "2021-04-22T13:22:18.322317Z",
     "shell.execute_reply": "2021-04-22T13:22:18.321714Z",
     "shell.execute_reply.started": "2021-04-22T13:22:18.298235Z"
    }
   },
   "outputs": [
    {
     "data": {
      "text/plain": [
       "(array([4, 2, 4, ..., 5, 1, 5]), array([0, 3, 2, ..., 1, 1, 1]))"
      ]
     },
     "execution_count": 129,
     "metadata": {},
     "output_type": "execute_result"
    }
   ],
   "source": [
    "uniq_neighbor( t_genotypes_raw )"
   ]
  },
  {
   "cell_type": "code",
   "execution_count": 175,
   "id": "standing-joining",
   "metadata": {
    "execution": {
     "iopub.execute_input": "2021-04-22T13:34:51.856738Z",
     "iopub.status.busy": "2021-04-22T13:34:51.856385Z",
     "iopub.status.idle": "2021-04-22T13:34:52.526888Z",
     "shell.execute_reply": "2021-04-22T13:34:52.526309Z",
     "shell.execute_reply.started": "2021-04-22T13:34:51.856696Z"
    }
   },
   "outputs": [
    {
     "data": {
      "text/plain": [
       "<seaborn.axisgrid.JointGrid at 0x2ac97fb77f90>"
      ]
     },
     "execution_count": 175,
     "metadata": {},
     "output_type": "execute_result"
    },
    {
     "data": {
      "image/png": "[encoded data removed]",
      "text/plain": [
       "<Figure size 432x432 with 3 Axes>"
      ]
     },
     "metadata": {
      "needs_background": "light"
     },
     "output_type": "display_data"
    }
   ],
   "source": [
    "sns.jointplot(np.arange(t_genotypes_raw.shape[0]), t_genotypes_raw, kind=\"hex\")"
   ]
  },
  {
   "cell_type": "code",
   "execution_count": 176,
   "id": "aboriginal-fruit",
   "metadata": {
    "execution": {
     "iopub.execute_input": "2021-04-22T13:34:54.579559Z",
     "iopub.status.busy": "2021-04-22T13:34:54.579239Z",
     "iopub.status.idle": "2021-04-22T13:34:54.723782Z",
     "shell.execute_reply": "2021-04-22T13:34:54.723211Z",
     "shell.execute_reply.started": "2021-04-22T13:34:54.579534Z"
    }
   },
   "outputs": [
    {
     "data": {
      "text/plain": [
       "<matplotlib.axes._subplots.AxesSubplot at 0x2ac97fce2c50>"
      ]
     },
     "execution_count": 176,
     "metadata": {},
     "output_type": "execute_result"
    },
    {
     "data": {
      "image/png": "[encoded data removed]",
      "text/plain": [
       "<Figure size 432x288 with 1 Axes>"
      ]
     },
     "metadata": {
      "needs_background": "light"
     },
     "output_type": "display_data"
    }
   ],
   "source": [
    "sns.scatterplot(np.arange(t_genotypes_raw.shape[0]), t_genotypes )"
   ]
  }
 ],
 "metadata": {
  "kernelspec": {
   "display_name": "Python [conda env:.conda-py3_quant]",
   "language": "python",
   "name": "conda-env-.conda-py3_quant-py"
  },
  "language_info": {
   "codemirror_mode": {
    "name": "ipython",
    "version": 3
   },
   "file_extension": ".py",
   "mimetype": "text/x-python",
   "name": "python",
   "nbconvert_exporter": "python",
   "pygments_lexer": "ipython3",
   "version": "3.7.6"
  },
  "widgets": {
   "application/vnd.jupyter.widget-state+json": {
    "state": {},
    "version_major": 2,
    "version_minor": 0
   }
  }
 },
 "nbformat": 4,
 "nbformat_minor": 5
}
