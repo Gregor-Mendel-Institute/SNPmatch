{
 "cells": [
  {
   "cell_type": "markdown",
   "id": "elementary-warrant",
   "metadata": {},
   "source": [
    "# genotyping using HMM"
   ]
  },
  {
   "cell_type": "code",
   "execution_count": 1,
   "id": "known-pathology",
   "metadata": {
    "execution": {
     "iopub.execute_input": "2021-04-27T07:53:58.034467Z",
     "iopub.status.busy": "2021-04-27T07:53:58.034060Z",
     "iopub.status.idle": "2021-04-27T07:54:01.909436Z",
     "shell.execute_reply": "2021-04-27T07:54:01.908184Z",
     "shell.execute_reply.started": "2021-04-27T07:53:58.034436Z"
    }
   },
   "outputs": [],
   "source": [
    "import numpy as np\n",
    "import numpy.ma \n",
    "import pandas as pd\n",
    "import seaborn as sns\n",
    "import matplotlib.pyplot as plt\n",
    "from snpmatch.core import parsers, genomes, genotype_cross, snp_genotype\n",
    "import logging\n",
    "log = logging.getLogger(__name__)"
   ]
  },
  {
   "cell_type": "markdown",
   "id": "descending-colors",
   "metadata": {},
   "source": [
    "### provide input files"
   ]
  },
  {
   "cell_type": "code",
   "execution_count": 56,
   "id": "agricultural-removal",
   "metadata": {
    "execution": {
     "iopub.execute_input": "2021-04-27T09:21:22.295065Z",
     "iopub.status.busy": "2021-04-27T09:21:22.294743Z",
     "iopub.status.idle": "2021-04-27T09:21:22.298432Z",
     "shell.execute_reply": "2021-04-27T09:21:22.297910Z",
     "shell.execute_reply.started": "2021-04-27T09:21:22.295037Z"
    }
   },
   "outputs": [],
   "source": [
    "db_file = \"/groups/nordborg/projects/field_experiments/007.pilot.sequencing/018.genotyping.by.plate/996.Swedes.220_6.newReSeq.July2020/002.mergeVCF/02_Swedes200_6.newReSeq_2.3M.BIALLELIC.hdf5\"\n",
    "input_vcf_file = \"/groups/nordborg/projects/epiclines/005.manu.crosses.2020/004.design_resolved/snps_bcftools/f2_batchthree.maf_filtered.vcf.gz\"\n",
    "parents = \"6046x6191_reSeq\""
   ]
  },
  {
   "cell_type": "code",
   "execution_count": 237,
   "id": "mental-specification",
   "metadata": {
    "execution": {
     "iopub.execute_input": "2021-04-27T14:18:51.033584Z",
     "iopub.status.busy": "2021-04-27T14:18:51.033159Z",
     "iopub.status.idle": "2021-04-27T14:19:04.063003Z",
     "shell.execute_reply": "2021-04-27T14:19:04.061905Z",
     "shell.execute_reply.started": "2021-04-27T14:18:51.033543Z"
    }
   },
   "outputs": [],
   "source": [
    "genome = genomes.Genome(\"athaliana_tair10\")\n",
    "g = snp_genotype.load_genotype_files( db_file )\n",
    "geno_cross = genotype_cross.GenotypeCross(g, parents )\n",
    "\n",
    "\n",
    "g_chr_names = genome.chrs[pd.Series(geno_cross.commonSNPsCHR, dtype = str).apply(genome.get_chr_ind)]\n",
    "snpvcf = parsers.import_vcf_file(inFile =  input_vcf_file , logDebug = False, samples_to_load = None)\n",
    "samples_ids = pd.Series(snpvcf['samples']) \n",
    "samples_gt = snpvcf['gt']\n",
    "samples_gt = pd.DataFrame(samples_gt.astype(str))\n",
    "segregating_ix = geno_cross.g.get_common_positions( geno_cross.commonSNPsCHR, geno_cross.commonSNPsPOS, snpvcf['chr'], snpvcf['pos'] )\n",
    "samples_gt = samples_gt.iloc[segregating_ix[1],:]"
   ]
  },
  {
   "cell_type": "code",
   "execution_count": 256,
   "id": "oriented-lighting",
   "metadata": {
    "execution": {
     "iopub.execute_input": "2021-04-27T15:07:12.017189Z",
     "iopub.status.busy": "2021-04-27T15:07:12.016810Z",
     "iopub.status.idle": "2021-04-27T15:07:34.715648Z",
     "shell.execute_reply": "2021-04-27T15:07:34.714215Z",
     "shell.execute_reply.started": "2021-04-27T15:07:12.017161Z"
    }
   },
   "outputs": [],
   "source": [
    "allSNPGenos_raw = pd.DataFrame( \n",
    "    index = pd.Series(geno_cross.commonSNPsCHR[segregating_ix[0]]).astype(str) + \":\" + pd.Series(geno_cross.commonSNPsPOS[segregating_ix[0]]).astype(str),\n",
    "    columns=samples_gt.columns\n",
    ")\n",
    "for ef in samples_gt.iteritems():\n",
    "    allSNPGenos_raw.loc[:,ef[0]] = get_parental_obs(ef[1].values, geno_cross.snpsP1[segregating_ix[0]], geno_cross.snpsP2[segregating_ix[0]])\n",
    "# "
   ]
  },
  {
   "cell_type": "code",
   "execution_count": 330,
   "id": "sensitive-merchandise",
   "metadata": {
    "execution": {
     "iopub.execute_input": "2021-04-27T15:31:08.871090Z",
     "iopub.status.busy": "2021-04-27T15:31:08.870781Z",
     "iopub.status.idle": "2021-04-27T15:31:08.884567Z",
     "shell.execute_reply": "2021-04-27T15:31:08.884104Z",
     "shell.execute_reply.started": "2021-04-27T15:31:08.871054Z"
    }
   },
   "outputs": [],
   "source": [
    "def uniq_neighbor(a):\n",
    "    sorted_a = np.array(a[0], dtype = a.dtype)\n",
    "    sorted_a_count = np.array([1], dtype = int)\n",
    "    for ef_ix in range(1, len(a)):\n",
    "        if a[ef_ix] != a[ef_ix-1]:\n",
    "            sorted_a = np.append(sorted_a, a[ef_ix])\n",
    "            sorted_a_count = np.append(sorted_a_count, 1)\n",
    "        elif a[ef_ix] == a[ef_ix-1]:\n",
    "            sorted_a_count[-1] += 1\n",
    "    return((sorted_a, sorted_a_count))\n",
    "        \n",
    "def get_parental_obs(input_gt, snpsP1_gt, snpsP2_gt, polarize = None):\n",
    "    num_snps = len(input_gt)\n",
    "    ebTarGTs = parsers.parseGT(input_gt)\n",
    "    ebPolarised = np.zeros(num_snps, dtype=int)\n",
    "    ### Here I am having 6 observed states. to consider SNPs where either of the parent shows -1 \n",
    "    ## ('00', '01', '11',  'NA') ### removed '0', '1',\n",
    "    ##    0,    1,    2,   3  ###  4,    5\n",
    "    ebPolarised[:] = 3\n",
    "    snpsP1_gt_mask = numpy.ma.masked_less(numpy.ma.masked_greater(snpsP1_gt, 1), 0)\n",
    "    snpsP2_gt_mask = numpy.ma.masked_less(numpy.ma.masked_greater(snpsP2_gt, 1), 0)\n",
    "    ebPolarised[np.where((np.equal( ebTarGTs, snpsP1_gt_mask )) & (~snpsP2_gt_mask) )[0] ] = 0  ## 00\n",
    "    ## ebPolarised[np.where((np.equal( ebTarGTs, snpsP1_gt_mask )) & (snpsP2_gt_mask) )[0] ] = 3 ## 0\n",
    "    ebPolarised[np.where((np.equal( ebTarGTs, snpsP2_gt_mask )) & (~snpsP1_gt_mask) )[0] ] = 2  ## 11\n",
    "    ## ebPolarised[np.where((np.equal( ebTarGTs, snpsP2_gt_mask )) & (snpsP1_gt_mask) )[0] ] = 4 ## 1\n",
    "    ebPolarised[np.where( np.equal( ebTarGTs, np.repeat(2, num_snps)) & (snpsP1_gt_mask != snpsP2_gt_mask ) )[0] ] = 1\n",
    "#     & ( ~snpsP1_gt_mask ) & (~snpsP2_gt_mask)\n",
    "    return(ebPolarised)\n",
    "\n",
    "def init_hmm(num_markers, chromosome_size = 115, recomb_rate = 3.3, n_iter = 100):\n",
    "    \"\"\"\n",
    "    Function to initilize a HMM model \n",
    "    Input: \n",
    "        number of markers\n",
    "        recomb_rate: assumed rate of recombination (cM per Mb)\n",
    "        genome_size: size of chromosome in Mb\n",
    "    \"\"\"\n",
    "    from hmmlearn import hmm\n",
    "    ### The below transition probability is for a intercross, adapted from R/qtl\n",
    "    log.info(\"Initialising HMM\")\n",
    "    states = ('aa', 'ab', 'bb')\n",
    "    observations = ('00', '01', '11', 'NA')\n",
    "    ## assume A. thaliana genome size of 115 Mb \n",
    "    ## First calculate the average spacing between the markers\n",
    "    ## chromosome_size / num_markers \n",
    "    ##_____\n",
    "    ## given a recombination rate of ~3.3 \n",
    "    # probability you see a recombinant is 1 / (100 * recomb_rate)\n",
    "    prob_of_change = ( chromosome_size / num_markers ) * ( 1 / (100 * recomb_rate)  )\n",
    "    transmission_prob = [\n",
    "            [1 - prob_of_change,  prob_of_change/2,   prob_of_change/2],\n",
    "            [prob_of_change/2,    1 - prob_of_change, prob_of_change/2],\n",
    "            [prob_of_change/2,    prob_of_change/2,   1 - prob_of_change]\n",
    "    ]\n",
    "    ## We have 4 observed states, 00, 01, 11 and NA -- need an emmission matrix with shape 3x4\n",
    "    # Check Rqtl book page 381. Emission probabilities for intercross given error probability\n",
    "    ## Please modify emission probabilies based on your real data. \n",
    "    # 1. Check if you have SNP data on parents. Calculate the probability of observing each states (00, 01, 11 and NA). This would be the row 1 and 3 (symmetric) of emission probability matrix P(O|G = homo) \n",
    "    # 2. Check few individuals that looks like heterozygous on a given chromosome. Estimate the probabilies of each observed state in this region. This would be emission probability for P(O|G = hete)\n",
    "    ## Make sure you check the centromeric and pericentromeric regions well.\n",
    "    ## increase the probability a little on 01 and 11 given aa as underlying state\n",
    "    # Once you have these probabilies -- change the scripts accordingly.\n",
    "    emission_prob = [ \n",
    "        [0.163,  0.004,   0.003,   0.83], \n",
    "        [0.06, 0.03,   0.04,  0.87],\n",
    "        [0.003,  0.002,   0.114,   0.75]\n",
    "    ]\n",
    "    model = hmm.MultinomialHMM(n_components=3, n_iter = n_iter, algorithm = \"viterbi\", init_params='st') \n",
    "    model.startprob_ = np.array([0.25, 0.5, 0.25])\n",
    "    model.transmat_ = pd.DataFrame(transmission_prob)\n",
    "    model.emissionprob_ = pd.DataFrame(emission_prob)\n",
    "    return(model)"
   ]
  },
  {
   "cell_type": "code",
   "execution_count": 329,
   "id": "fallen-proceeding",
   "metadata": {
    "execution": {
     "iopub.execute_input": "2021-04-27T15:30:48.198001Z",
     "iopub.status.busy": "2021-04-27T15:30:48.197699Z",
     "iopub.status.idle": "2021-04-27T15:30:48.201576Z",
     "shell.execute_reply": "2021-04-27T15:30:48.201135Z",
     "shell.execute_reply.started": "2021-04-27T15:30:48.197976Z"
    }
   },
   "outputs": [
    {
     "data": {
      "text/plain": [
       "1.0"
      ]
     },
     "execution_count": 329,
     "metadata": {},
     "output_type": "execute_result"
    }
   ],
   "source": [
    "# 0.114 + 0.003 + 0.003 + 0.88\n",
    "\n",
    "# 0.06 + 0.03 + 0.04 + 0.87\n",
    "\n",
    "0.163 + 0.004 + 0.003 + 0.83"
   ]
  },
  {
   "cell_type": "code",
   "execution_count": 325,
   "id": "growing-payroll",
   "metadata": {
    "execution": {
     "iopub.execute_input": "2021-04-27T15:29:12.909556Z",
     "iopub.status.busy": "2021-04-27T15:29:12.909187Z",
     "iopub.status.idle": "2021-04-27T15:29:12.920303Z",
     "shell.execute_reply": "2021-04-27T15:29:12.919871Z",
     "shell.execute_reply.started": "2021-04-27T15:29:12.909531Z"
    }
   },
   "outputs": [
    {
     "data": {
      "text/plain": [
       "0    0.166862\n",
       "1    0.003729\n",
       "2    0.003009\n",
       "3    0.826401\n",
       "dtype: float64"
      ]
     },
     "execution_count": 325,
     "metadata": {},
     "output_type": "execute_result"
    }
   ],
   "source": [
    "sample_ix = np.where(samples_ids.str.contains('P_6046'))[0]   ## ancestral state 0\n",
    "# sample_ix = np.where(samples_ids.str.contains('P_6191'))[0]  ## ancestral state 1\n",
    "# sample_ix = np.where(samples_ids.str.contains('F1'))[0]  #### Het\n",
    "\n",
    "\n",
    "t_genotypes_raw = pd.Series(allSNPGenos_raw.iloc[:,sample_ix].values.flatten())\n",
    "t_genotypes_raw.value_counts( normalize = True, sort = False )"
   ]
  },
  {
   "cell_type": "code",
   "execution_count": 334,
   "id": "desirable-valuable",
   "metadata": {
    "execution": {
     "iopub.execute_input": "2021-04-27T15:36:00.780828Z",
     "iopub.status.busy": "2021-04-27T15:36:00.780440Z",
     "iopub.status.idle": "2021-04-27T15:36:00.798865Z",
     "shell.execute_reply": "2021-04-27T15:36:00.798223Z",
     "shell.execute_reply.started": "2021-04-27T15:36:00.780792Z"
    }
   },
   "outputs": [
    {
     "name": "stdout",
     "output_type": "stream",
     "text": [
      "-937.6691339916808\n"
     ]
    }
   ],
   "source": [
    "t_chr_ix = 1\n",
    "sample_ix = 5\n",
    "\n",
    "ec = genome.chrs[t_chr_ix] \n",
    "eclen = genome.chrlen[t_chr_ix]\n",
    "reqChrind = np.where( g_chr_names[segregating_ix[0]] == ec )[0]\n",
    "\n",
    "model = init_hmm( samples_gt.shape[0] )\n",
    "# model = model.fit(t_genotypes_raw.reshape((-1, 1)),  )\n",
    "t_genotypes_raw = allSNPGenos_raw.iloc[ reqChrind,sample_ix ].values\n",
    "t_genotypes = model.decode(t_genotypes_raw.reshape((-1, 1)), algorithm='viterbi')\n",
    "\n",
    "# uniq_neighbor( t_genotypes[1] )\n",
    "print( \"%s\" % t_genotypes[0] )"
   ]
  },
  {
   "cell_type": "code",
   "execution_count": 335,
   "id": "mediterranean-kernel",
   "metadata": {
    "execution": {
     "iopub.execute_input": "2021-04-27T15:36:01.478214Z",
     "iopub.status.busy": "2021-04-27T15:36:01.477910Z",
     "iopub.status.idle": "2021-04-27T15:36:02.110905Z",
     "shell.execute_reply": "2021-04-27T15:36:02.110350Z",
     "shell.execute_reply.started": "2021-04-27T15:36:01.478186Z"
    }
   },
   "outputs": [
    {
     "data": {
      "image/png": "[encoded data removed]",
      "text/plain": [
       "<Figure size 432x432 with 3 Axes>"
      ]
     },
     "metadata": {
      "needs_background": "light"
     },
     "output_type": "display_data"
    }
   ],
   "source": [
    "p = sns.jointplot(np.arange(t_genotypes_raw.shape[0]), t_genotypes_raw, kind=\"hex\", joint_kws=dict(gridsize=40))\n",
    "\n",
    "\n",
    "p.ax_marg_x.set_title( \"%s in chr %s \" % (samples_ids.values[sample_ix], ec) )\n",
    "plt.show()"
   ]
  },
  {
   "cell_type": "code",
   "execution_count": 336,
   "id": "cognitive-denmark",
   "metadata": {
    "execution": {
     "iopub.execute_input": "2021-04-27T15:36:02.255341Z",
     "iopub.status.busy": "2021-04-27T15:36:02.255114Z",
     "iopub.status.idle": "2021-04-27T15:36:02.373635Z",
     "shell.execute_reply": "2021-04-27T15:36:02.373197Z",
     "shell.execute_reply.started": "2021-04-27T15:36:02.255320Z"
    }
   },
   "outputs": [
    {
     "data": {
      "text/plain": [
       "<matplotlib.axes._subplots.AxesSubplot at 0x2b8cbf7a0cd0>"
      ]
     },
     "execution_count": 336,
     "metadata": {},
     "output_type": "execute_result"
    },
    {
     "data": {
      "image/png": "[encoded data removed]",
      "text/plain": [
       "<Figure size 432x288 with 1 Axes>"
      ]
     },
     "metadata": {
      "needs_background": "light"
     },
     "output_type": "display_data"
    }
   ],
   "source": [
    "sns.scatterplot(np.arange(t_genotypes[1].shape[0]), t_genotypes[1] )"
   ]
  }
 ],
 "metadata": {
  "kernelspec": {
   "display_name": "Python [conda env:.conda-py3_quant]",
   "language": "python",
   "name": "conda-env-.conda-py3_quant-py"
  },
  "language_info": {
   "codemirror_mode": {
    "name": "ipython",
    "version": 3
   },
   "file_extension": ".py",
   "mimetype": "text/x-python",
   "name": "python",
   "nbconvert_exporter": "python",
   "pygments_lexer": "ipython3",
   "version": "3.7.6"
  },
  "widgets": {
   "application/vnd.jupyter.widget-state+json": {
    "state": {},
    "version_major": 2,
    "version_minor": 0
   }
  }
 },
 "nbformat": 4,
 "nbformat_minor": 5
}
